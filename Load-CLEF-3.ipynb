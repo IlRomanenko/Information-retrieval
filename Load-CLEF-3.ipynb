{
 "cells": [
  {
   "cell_type": "code",
   "execution_count": 1,
   "metadata": {},
   "outputs": [],
   "source": [
    "import numpy as np\n",
    "import xml.etree.ElementTree as ET\n",
    "import re\n",
    "import pandas as pd\n",
    "from lxml import etree\n",
    "from nltk.stem import PorterStemmer\n",
    "import pickle"
   ]
  },
  {
   "cell_type": "markdown",
   "metadata": {},
   "source": [
    "# Чтение topics"
   ]
  },
  {
   "cell_type": "code",
   "execution_count": 2,
   "metadata": {},
   "outputs": [],
   "source": [
    "xml = \"\"\n",
    "with open('Data/CLEF3/topics/Top-en03.txt') as f:\n",
    "    xml = f.read()\n",
    "tree = ET.fromstring(\"<root>\" + xml + \"</root>\")"
   ]
  },
  {
   "cell_type": "code",
   "execution_count": 3,
   "metadata": {},
   "outputs": [],
   "source": [
    "nums, titles = [], []\n",
    "for top in tree.getchildren():\n",
    "    num = top.find(\"num\").text.strip()\n",
    "    num = num[num.find(\"C\") + 1:]\n",
    "    title = top.find(\"EN-title\").text.strip().lower()\n",
    "    nums.append(num)\n",
    "    titles.append(title)\n",
    "    \n",
    "nums = np.array(nums, dtype=np.int)\n",
    "titles = np.array(titles)"
   ]
  },
  {
   "cell_type": "code",
   "execution_count": 4,
   "metadata": {},
   "outputs": [],
   "source": [
    "topics = pd.DataFrame(np.hstack([\n",
    "    nums.reshape(-1, 1), \n",
    "    titles.reshape(-1, 1)\n",
    "    ]),\n",
    "    columns=['num', 'title']\n",
    ")"
   ]
  },
  {
   "cell_type": "markdown",
   "metadata": {},
   "source": [
    "# Чтение qrels"
   ]
  },
  {
   "cell_type": "code",
   "execution_count": 5,
   "metadata": {},
   "outputs": [],
   "source": [
    "qrels = pd.read_csv('Data/CLEF3/qrels/biling_qrels_03', sep=' ', \n",
    "                    names=['query', 'stage', 'docno', 'target'])\n",
    "qrels.drop('stage', inplace=True, axis=1)"
   ]
  },
  {
   "cell_type": "code",
   "execution_count": 6,
   "metadata": {},
   "outputs": [
    {
     "data": {
      "text/html": [
       "<div>\n",
       "<style scoped>\n",
       "    .dataframe tbody tr th:only-of-type {\n",
       "        vertical-align: middle;\n",
       "    }\n",
       "\n",
       "    .dataframe tbody tr th {\n",
       "        vertical-align: top;\n",
       "    }\n",
       "\n",
       "    .dataframe thead th {\n",
       "        text-align: right;\n",
       "    }\n",
       "</style>\n",
       "<table border=\"1\" class=\"dataframe\">\n",
       "  <thead>\n",
       "    <tr style=\"text-align: right;\">\n",
       "      <th></th>\n",
       "      <th>query</th>\n",
       "      <th>docno</th>\n",
       "      <th>target</th>\n",
       "    </tr>\n",
       "  </thead>\n",
       "  <tbody>\n",
       "    <tr>\n",
       "      <th>0</th>\n",
       "      <td>141</td>\n",
       "      <td>GH950106-000047</td>\n",
       "      <td>0</td>\n",
       "    </tr>\n",
       "    <tr>\n",
       "      <th>1</th>\n",
       "      <td>141</td>\n",
       "      <td>GH950109-000115</td>\n",
       "      <td>0</td>\n",
       "    </tr>\n",
       "    <tr>\n",
       "      <th>2</th>\n",
       "      <td>141</td>\n",
       "      <td>GH950118-000104</td>\n",
       "      <td>0</td>\n",
       "    </tr>\n",
       "    <tr>\n",
       "      <th>3</th>\n",
       "      <td>141</td>\n",
       "      <td>GH950121-000124</td>\n",
       "      <td>0</td>\n",
       "    </tr>\n",
       "    <tr>\n",
       "      <th>4</th>\n",
       "      <td>141</td>\n",
       "      <td>GH950121-000159</td>\n",
       "      <td>0</td>\n",
       "    </tr>\n",
       "  </tbody>\n",
       "</table>\n",
       "</div>"
      ],
      "text/plain": [
       "   query            docno  target\n",
       "0    141  GH950106-000047       0\n",
       "1    141  GH950109-000115       0\n",
       "2    141  GH950118-000104       0\n",
       "3    141  GH950121-000124       0\n",
       "4    141  GH950121-000159       0"
      ]
     },
     "execution_count": 6,
     "metadata": {},
     "output_type": "execute_result"
    }
   ],
   "source": [
    "qrels.head()"
   ]
  },
  {
   "cell_type": "markdown",
   "metadata": {},
   "source": [
    "# Чтение docs и их processing"
   ]
  },
  {
   "cell_type": "code",
   "execution_count": 15,
   "metadata": {},
   "outputs": [],
   "source": [
    "def clean_text(text):\n",
    "    regex = \"[^a-zA-Z ]\"\n",
    "    cleaned_text = re.sub(regex, \"\", text).lower()\n",
    "    \n",
    "    stemmer = PorterStemmer()\n",
    "    stemmed_text = \"\"\n",
    "    for word in cleaned_text.split(' '):\n",
    "        stemmed_text += stemmer.stem(word) + ' '\n",
    "    cleaned_text = stemmed_text\n",
    "    \n",
    "    return cleaned_text.strip()"
   ]
  },
  {
   "cell_type": "markdown",
   "metadata": {},
   "source": [
    "### Загрузка корпуса LAT94"
   ]
  },
  {
   "cell_type": "code",
   "execution_count": 9,
   "metadata": {},
   "outputs": [],
   "source": [
    "xml = \"\"\n",
    "with open('Data/CLEF3/corpus/LAT94-utf.all', 'r', encoding='utf-8') as f:\n",
    "    xml = f.read()\n",
    "xml = re.sub('&', ' ', xml)\n",
    "xml = re.sub('&amp;', ' ', xml)\n",
    "root = etree.fromstring(\"<root>\" + xml + \"</root>\")"
   ]
  },
  {
   "cell_type": "code",
   "execution_count": 10,
   "metadata": {},
   "outputs": [],
   "source": [
    "del xml"
   ]
  },
  {
   "cell_type": "code",
   "execution_count": 12,
   "metadata": {},
   "outputs": [],
   "source": [
    "docs_array = []\n",
    "\n",
    "for doc in root.getchildren():\n",
    "    docno = doc.find(\"DOCNO\").text.strip()\n",
    "    docid = doc.find(\"DOCID\").text.strip()\n",
    "    textElement = doc.find(\"TEXT\")\n",
    "    if textElement is None:\n",
    "        continue\n",
    "    text = \"\"\n",
    "    for textChild in textElement.getchildren():\n",
    "        text += ' '.join(textChild.text.lower().split('\\n')) + ' '\n",
    "    \n",
    "    splitted = list(filter(lambda x: len(x) > 0, clean_text(text).split(' ')))\n",
    "    text = ' '.join(splitted)\n",
    "    length = len(splitted)\n",
    "    docs_array.append([docno, docid, text, length])"
   ]
  },
  {
   "cell_type": "markdown",
   "metadata": {},
   "source": [
    "### Загрузка корпуса GH95"
   ]
  },
  {
   "cell_type": "code",
   "execution_count": 55,
   "metadata": {},
   "outputs": [],
   "source": [
    "xml = \"\"\n",
    "with open('Data/CLEF3/corpus/GH95-utf.all', 'r', encoding='utf-8') as f:\n",
    "    xml = f.read()\n",
    "xml = re.sub('&', ' ', xml)\n",
    "xml = re.sub('&amp;', ' ', xml)\n",
    "# unsupported tag <#LIN+ E> was erased in line 2865393, column 70\n",
    "# unsupported tag <\\n was erased in line 3019020, column 62\n",
    "root = etree.fromstring(\"<root>\" + xml + \"</root>\")"
   ]
  },
  {
   "cell_type": "code",
   "execution_count": 56,
   "metadata": {},
   "outputs": [],
   "source": [
    "del xml"
   ]
  },
  {
   "cell_type": "code",
   "execution_count": 57,
   "metadata": {},
   "outputs": [],
   "source": [
    "docs_array_gh95 = []\n",
    "\n",
    "for doc in root.getchildren():\n",
    "    docno = doc.find(\"DOCNO\").text.strip()\n",
    "    docid = doc.find(\"DOCID\").text.strip()\n",
    "    textElement = doc.find(\"TEXT\")\n",
    "    if textElement is None:\n",
    "        continue\n",
    "    text = ' '.join(textElement.text.lower().split('\\n'))\n",
    "    \n",
    "    for textChild in textElement.getchildren():\n",
    "        print('found tag')\n",
    "        \n",
    "    splitted = list(filter(lambda x: len(x) > 0, clean_text(text).split(' ')))\n",
    "    text = ' '.join(splitted)\n",
    "    length = len(splitted)\n",
    "    docs_array_gh95.append([docno, docid, text, length])"
   ]
  },
  {
   "cell_type": "code",
   "execution_count": null,
   "metadata": {},
   "outputs": [],
   "source": []
  },
  {
   "cell_type": "code",
   "execution_count": 58,
   "metadata": {},
   "outputs": [],
   "source": [
    "docs_array = docs_array +  docs_array_gh95"
   ]
  },
  {
   "cell_type": "code",
   "execution_count": 59,
   "metadata": {},
   "outputs": [],
   "source": [
    "with open('Data/CLEF3/cleaned-corpus-utf', 'wb') as f:\n",
    "    pickle.dump(docs_array, f)"
   ]
  },
  {
   "cell_type": "markdown",
   "metadata": {},
   "source": [
    "### Загрузка сохраненных данных"
   ]
  },
  {
   "cell_type": "code",
   "execution_count": 7,
   "metadata": {},
   "outputs": [],
   "source": [
    "docs_array = None\n",
    "with open('Data/CLEF3/cleaned-corpus-utf', 'rb') as f:\n",
    "    docs_array = pickle.load(f)"
   ]
  },
  {
   "cell_type": "code",
   "execution_count": 8,
   "metadata": {},
   "outputs": [],
   "source": [
    "docs = pd.DataFrame(\n",
    "    docs_array,\n",
    "    columns=['docno', 'docid', 'text', 'len']\n",
    ")"
   ]
  },
  {
   "cell_type": "markdown",
   "metadata": {},
   "source": [
    "# Создание features"
   ]
  },
  {
   "cell_type": "code",
   "execution_count": 62,
   "metadata": {},
   "outputs": [],
   "source": [
    "from sklearn.feature_extraction.text import CountVectorizer, TfidfVectorizer, TfidfTransformer"
   ]
  },
  {
   "cell_type": "code",
   "execution_count": 63,
   "metadata": {},
   "outputs": [],
   "source": [
    "vectorizer = CountVectorizer(analyzer='word', ngram_range=(1, 1), stop_words = 'english')\n",
    "term_count = vectorizer.fit_transform(docs['text'])"
   ]
  },
  {
   "cell_type": "code",
   "execution_count": 64,
   "metadata": {},
   "outputs": [
    {
     "data": {
      "text/plain": [
       "<166745x345455 sparse matrix of type '<class 'numpy.int64'>'\n",
       "\twith 28852198 stored elements in Compressed Sparse Row format>"
      ]
     },
     "execution_count": 64,
     "metadata": {},
     "output_type": "execute_result"
    }
   ],
   "source": [
    "term_count"
   ]
  },
  {
   "cell_type": "code",
   "execution_count": 73,
   "metadata": {},
   "outputs": [],
   "source": [
    "with open('Data/CLEF3/vectorizer', 'wb') as f:\n",
    "    pickle.dump(vectorizer, f)"
   ]
  },
  {
   "cell_type": "code",
   "execution_count": 65,
   "metadata": {},
   "outputs": [],
   "source": [
    "with open('Data/CLEF3/BoW-corpus-utf', 'wb') as f:\n",
    "    pickle.dump(term_count, f)"
   ]
  },
  {
   "cell_type": "markdown",
   "metadata": {},
   "source": [
    "### Загрузка"
   ]
  },
  {
   "cell_type": "code",
   "execution_count": 9,
   "metadata": {},
   "outputs": [],
   "source": [
    "term_count = None\n",
    "vectorizer = None\n",
    "with open('Data/CLEF3/BoW-corpus-utf', 'rb') as f:\n",
    "    term_count = pickle.load(f)\n",
    "with open('Data/CLEF3/vectorizer', 'rb') as f:\n",
    "    vectorizer = pickle.load(f)"
   ]
  },
  {
   "cell_type": "code",
   "execution_count": 10,
   "metadata": {},
   "outputs": [],
   "source": [
    "document_average_size = np.mean(docs['len'])"
   ]
  },
  {
   "cell_type": "code",
   "execution_count": 11,
   "metadata": {},
   "outputs": [],
   "source": [
    "norm_coefs = np.log(1 + docs['len'].values / document_average_size).reshape(-1, 1)\n",
    "X_values = term_count.multiply(norm_coefs)"
   ]
  },
  {
   "cell_type": "code",
   "execution_count": 12,
   "metadata": {},
   "outputs": [],
   "source": [
    "Y_values = np.sum(term_count > 0, axis=0) / term_count.shape[0]\n",
    "Y_values = np.array(Y_values).flatten()"
   ]
  },
  {
   "cell_type": "code",
   "execution_count": 13,
   "metadata": {},
   "outputs": [
    {
     "data": {
      "text/plain": [
       "((166745, 345455), (345455,))"
      ]
     },
     "execution_count": 13,
     "metadata": {},
     "output_type": "execute_result"
    }
   ],
   "source": [
    "X_values.shape, Y_values.shape"
   ]
  },
  {
   "cell_type": "code",
   "execution_count": 16,
   "metadata": {},
   "outputs": [],
   "source": [
    "topics['title'] = topics['title'].apply(clean_text)"
   ]
  },
  {
   "cell_type": "code",
   "execution_count": 17,
   "metadata": {},
   "outputs": [
    {
     "data": {
      "text/plain": [
       "0"
      ]
     },
     "execution_count": 17,
     "metadata": {},
     "output_type": "execute_result"
    }
   ],
   "source": [
    "np.sum(vectorizer.transform(topics['title']) > 1)"
   ]
  },
  {
   "cell_type": "code",
   "execution_count": 38,
   "metadata": {},
   "outputs": [],
   "source": [
    "with open('Data/CLEF3/X_values', 'wb') as f:\n",
    "    pickle.dump(X_values, f)\n",
    "with open('Data/CLEF3/Y_values', 'wb') as f:\n",
    "    pickle.dump(Y_values, f)"
   ]
  },
  {
   "cell_type": "markdown",
   "metadata": {},
   "source": [
    "Каждое слово в запросе встречается по одному разу.\n",
    "Забавное замечание - мы выкинули все стоп-слова, а часть слов из запросов никогда не встречается в итоговом сете."
   ]
  },
  {
   "cell_type": "code",
   "execution_count": 39,
   "metadata": {},
   "outputs": [],
   "source": [
    "X_values, Y_values = None, None\n",
    "with open('Data/CLEF3/X_values', 'rb') as f:\n",
    "    X_values = pickle.load(f)\n",
    "with open('Data/CLEF3/Y_values', 'rb') as f:\n",
    "    Y_values = pickle.load(f)"
   ]
  },
  {
   "cell_type": "markdown",
   "metadata": {},
   "source": [
    "## Важно!\n",
    "### Теперь преобразуем наши значения так, чтобы (tf, idf) значения слов из запроса шли подряд. Дополнительно создадим массив числа слов в запросе распознанных."
   ]
  },
  {
   "cell_type": "code",
   "execution_count": 33,
   "metadata": {},
   "outputs": [],
   "source": [
    "from tqdm import tqdm"
   ]
  },
  {
   "cell_type": "code",
   "execution_count": 34,
   "metadata": {},
   "outputs": [
    {
     "name": "stderr",
     "output_type": "stream",
     "text": [
      "100%|██████████| 60/60 [04:02<00:00,  4.04s/it]\n"
     ]
    }
   ],
   "source": [
    "queries = []\n",
    "query_ids = np.unique(qrels['query'])\n",
    "\n",
    "for query_id in tqdm(query_ids):\n",
    "    \n",
    "    # Получаем target\n",
    "    subtable = qrels[qrels['query'] == query_id]\n",
    "    subtable = subtable[subtable['target'] == 1]\n",
    "    \n",
    "    query_target = np.zeros(docs.shape[0], dtype=np.bool)\n",
    "    for docno in subtable['docno']:\n",
    "        query_target |= (docs['docno'] == docno).values\n",
    "    \n",
    "    topic_text = topics[topics['num'].astype(np.int) == query_id]['title'].values[0]\n",
    "    \n",
    "    bow = vectorizer.transform([topic_text])\n",
    "    feature_index = np.arange(bow.shape[1])[bow.toarray()[0] > 0]\n",
    "    \n",
    "    query_characteristics = []\n",
    "    \n",
    "    for index in feature_index:\n",
    "        query_characteristics.append([\n",
    "            X_values.getcol(index).toarray().flatten(),\n",
    "            Y_values[index]\n",
    "        ])\n",
    "    queries.append([query_characteristics, query_target])\n",
    "    \n",
    "queries = np.array(queries)"
   ]
  },
  {
   "cell_type": "code",
   "execution_count": 35,
   "metadata": {},
   "outputs": [],
   "source": [
    "with open('Data/CLEF3/queries-corpus-utf', 'wb') as f:\n",
    "    pickle.dump(queries, f)"
   ]
  },
  {
   "cell_type": "markdown",
   "metadata": {},
   "source": [
    "### Загрузка сохраненных данных"
   ]
  },
  {
   "cell_type": "code",
   "execution_count": 36,
   "metadata": {},
   "outputs": [],
   "source": [
    "queries = None\n",
    "with open('Data/CLEF3/queries-corpus-utf', 'rb') as f:\n",
    "    queries = pickle.load(f)"
   ]
  },
  {
   "cell_type": "code",
   "execution_count": null,
   "metadata": {},
   "outputs": [],
   "source": []
  },
  {
   "cell_type": "code",
   "execution_count": 40,
   "metadata": {},
   "outputs": [],
   "source": [
    "from sklearn.cluster import KMeans"
   ]
  },
  {
   "cell_type": "code",
   "execution_count": 45,
   "metadata": {},
   "outputs": [],
   "source": [
    "kmeans = KMeans(n_clusters=4, verbose=1, n_jobs=8)"
   ]
  },
  {
   "cell_type": "code",
   "execution_count": 46,
   "metadata": {
    "scrolled": true
   },
   "outputs": [
    {
     "name": "stdout",
     "output_type": "stream",
     "text": [
      "Initialization complete\n",
      "Initialization complete\n",
      "Initialization complete\n",
      "Initialization complete\n",
      "Initialization complete\n",
      "Initialization complete\n",
      "Initialization complete\n",
      "Initialization complete\n",
      "Iteration  0, inertia 287317770.935\n",
      "Iteration  0, inertia 293271712.036\n",
      "Iteration  0, inertia 296312317.463\n",
      "Iteration  0, inertia 284189513.060\n",
      "Iteration  0, inertia 266764425.668\n",
      "Iteration  0, inertia 281776801.568\n",
      "Iteration  0, inertia 285508693.466\n",
      "Iteration  0, inertia 262899670.083\n",
      "Iteration  1, inertia 238671854.168\n",
      "Iteration  1, inertia 258685799.837\n",
      "Iteration  1, inertia 260257729.422\n",
      "Iteration  1, inertia 255274371.554\n",
      "Iteration  1, inertia 236883859.483\n",
      "Iteration  1, inertia 238317788.138\n",
      "Iteration  1, inertia 256533769.915\n",
      "Iteration  1, inertia 241767333.488\n",
      "Iteration  2, inertia 234038229.537\n",
      "Iteration  2, inertia 255729127.409\n",
      "Iteration  2, inertia 248368623.902\n",
      "Iteration  2, inertia 257656538.090\n",
      "Iteration  2, inertia 232217986.045\n",
      "Iteration  2, inertia 235869092.090\n",
      "Iteration  2, inertia 254563719.384\n",
      "Iteration  2, inertia 240759312.912\n",
      "Iteration  3, inertia 232488196.669\n",
      "Iteration  3, inertia 254369595.662\n",
      "Iteration  3, inertia 245347784.795\n",
      "Iteration  3, inertia 256235158.003\n",
      "Iteration  3, inertia 234828609.899\n",
      "Iteration  3, inertia 231538996.327\n",
      "Iteration  3, inertia 254157101.441\n",
      "Iteration  3, inertia 239680301.239\n",
      "Iteration  4, inertia 231781457.991\n",
      "Iteration  4, inertia 253877121.247\n",
      "Iteration  4, inertia 245092922.516\n",
      "Iteration  4, inertia 255407114.732\n",
      "Iteration  4, inertia 233398359.985\n",
      "Iteration  4, inertia 253905626.405\n",
      "Iteration  4, inertia 231234855.731\n",
      "Iteration  4, inertia 238511402.633\n",
      "Iteration  5, inertia 231525781.317\n",
      "Iteration  5, inertia 244989654.733\n",
      "Iteration  5, inertia 253713100.010\n",
      "Iteration  5, inertia 232240169.335\n",
      "Iteration  5, inertia 254848360.337\n",
      "Iteration  5, inertia 253597147.845\n",
      "Iteration  5, inertia 231102805.390\n",
      "Iteration  5, inertia 237419493.152\n",
      "Iteration  6, inertia 231436149.717\n",
      "Iteration  6, inertia 244938897.781\n",
      "Iteration  6, inertia 253633099.480\n",
      "Iteration  6, inertia 253089371.980\n",
      "Iteration  6, inertia 231719028.937\n",
      "Iteration  6, inertia 254387654.777\n",
      "Iteration  6, inertia 231043773.100\n",
      "Iteration  6, inertia 236585611.712\n",
      "Iteration  7, inertia 231402084.406\n",
      "Iteration  7, inertia 244913330.320\n",
      "Iteration  7, inertia 253585130.376\n",
      "Iteration  7, inertia 252371099.934\n",
      "Iteration  7, inertia 231543944.723\n",
      "Iteration  7, inertia 253823042.519\n",
      "Iteration  7, inertia 231014121.509\n",
      "Iteration  7, inertia 236015619.186\n",
      "Iteration  8, inertia 231387918.366\n",
      "Iteration  8, inertia 244900205.225\n",
      "Iteration  8, inertia 253551246.011\n",
      "Iteration  8, inertia 251705583.989\n",
      "Iteration  8, inertia 253101048.407\n",
      "Iteration  8, inertia 231477955.751\n",
      "Iteration  8, inertia 230996925.210\n",
      "Iteration  8, inertia 235667434.935\n",
      "Iteration  9, inertia 244891377.269\n",
      "Iteration  9, inertia 231380093.921\n",
      "Iteration  9, inertia 253533378.938\n",
      "Iteration  9, inertia 251276515.747\n",
      "Iteration  9, inertia 231450496.854\n",
      "Iteration  9, inertia 252531567.094\n",
      "Iteration  9, inertia 230986247.441\n",
      "Iteration  9, inertia 235470239.596\n",
      "Iteration 10, inertia 244884114.606\n",
      "Iteration 10, inertia 231372452.959\n",
      "Iteration 10, inertia 251060416.256\n",
      "Iteration 10, inertia 253523390.282\n",
      "Iteration 10, inertia 231433787.386\n",
      "Iteration 10, inertia 252199457.957\n",
      "Iteration 10, inertia 230978240.893\n",
      "Iteration 10, inertia 235353333.313\n",
      "Iteration 11, inertia 244878108.065\n",
      "Iteration 11, inertia 231363560.504\n",
      "Iteration 11, inertia 250940727.703\n",
      "Iteration 11, inertia 253515866.309\n",
      "Iteration 11, inertia 251997571.351\n",
      "Iteration 11, inertia 231422092.176\n",
      "Iteration 11, inertia 230971601.274\n",
      "Iteration 11, inertia 235282613.445\n",
      "Iteration 12, inertia 244874849.726\n",
      "Iteration 12, inertia 231358222.192\n",
      "Iteration 12, inertia 250873073.462\n",
      "Iteration 12, inertia 253509599.289\n",
      "Iteration 12, inertia 231412912.550\n",
      "Iteration 12, inertia 251895793.156\n",
      "Iteration 12, inertia 230962958.268\n",
      "Iteration 12, inertia 235238257.991\n",
      "Iteration 13, inertia 244871266.727\n",
      "Iteration 13, inertia 231354972.818\n",
      "Iteration 13, inertia 250777771.203\n",
      "Iteration 13, inertia 253504825.987\n",
      "Iteration 13, inertia 251830572.447\n",
      "Iteration 13, inertia 231405904.578\n",
      "Iteration 13, inertia 230954297.065\n",
      "Iteration 13, inertia 235213088.054\n",
      "Iteration 14, inertia 244865655.364\n",
      "Iteration 14, inertia 231352185.703\n",
      "Iteration 14, inertia 250713465.663\n",
      "Iteration 14, inertia 253501485.931\n",
      "Iteration 14, inertia 231401371.430\n",
      "Iteration 14, inertia 251786120.911\n",
      "Iteration 14, inertia 230947145.529\n",
      "Iteration 14, inertia 235200313.193\n",
      "Iteration 15, inertia 244863726.667\n",
      "Iteration 15, inertia 231351523.956\n",
      "Iteration 15, inertia 250607761.327\n",
      "Iteration 15, inertia 231397831.531\n",
      "Iteration 15, inertia 253499002.292\n",
      "Iteration 15, inertia 230940197.509\n",
      "Iteration 15, inertia 251753227.258\n",
      "Iteration 15, inertia 235193619.208\n",
      "Iteration 16, inertia 244862579.628\n",
      "Iteration 16, inertia 231350850.135\n",
      "Iteration 16, inertia 250561761.176\n",
      "Iteration 16, inertia 253495317.941\n",
      "Iteration 16, inertia 231395460.690\n",
      "Iteration 16, inertia 251729172.947\n",
      "Iteration 16, inertia 230933267.289\n",
      "Iteration 16, inertia 235190309.497\n",
      "Iteration 17, inertia 244861891.261\n",
      "Iteration 17, inertia 231350577.054\n",
      "Iteration 17, inertia 250446606.358\n",
      "Iteration 17, inertia 231392946.481\n",
      "Iteration 17, inertia 253492721.973\n",
      "Iteration 17, inertia 251712949.305\n",
      "Iteration 17, inertia 230928894.795\n",
      "Iteration 17, inertia 235188672.588\n",
      "Iteration 18, inertia 244861146.192\n",
      "Iteration 18, inertia 231350040.781\n",
      "Iteration 18, inertia 231389946.845\n",
      "Iteration 18, inertia 250157743.458\n",
      "Iteration 18, inertia 253491701.310\n",
      "Iteration 18, inertia 251701053.859\n",
      "Iteration 18, inertia 230925125.742\n",
      "Iteration 18, inertia 235187328.430\n",
      "Iteration 19, inertia 244860647.593\n",
      "Iteration 19, inertia 231349860.205\n",
      "Iteration 19, inertia 248634809.320\n",
      "Iteration 19, inertia 231387444.793\n",
      "Iteration 19, inertia 253491047.852\n",
      "Iteration 19, inertia 230922232.958\n",
      "Iteration 19, inertia 251691910.091\n",
      "Iteration 19, inertia 235186349.080\n",
      "Iteration 20, inertia 244859871.729\n",
      "Iteration 20, inertia 231349826.216\n",
      "Iteration 20, inertia 241324178.084\n",
      "Iteration 20, inertia 231385345.273\n",
      "Iteration 20, inertia 253490706.896\n",
      "Iteration 20, inertia 230920170.647\n",
      "Iteration 20, inertia 251684354.831\n",
      "Iteration 20, inertia 235185730.581\n",
      "Iteration 21, inertia 244859660.591\n",
      "Iteration 21, inertia 231349804.954\n",
      "Iteration 21, inertia 234811607.828\n",
      "Iteration 21, inertia 231383279.583\n",
      "Iteration 21, inertia 253490495.828\n",
      "Iteration 21, inertia 251678692.207\n",
      "Iteration 21, inertia 230918457.531\n",
      "Iteration 21, inertia 235185308.905\n",
      "Iteration 22, inertia 244859220.842\n",
      "Iteration 22, inertia 231349792.699\n",
      "Iteration 22, inertia 233198498.705\n",
      "Iteration 22, inertia 231380029.301\n",
      "Iteration 22, inertia 253490284.021\n",
      "Iteration 22, inertia 251672055.798\n",
      "Iteration 22, inertia 230916190.924\n",
      "Iteration 22, inertia 235184945.911\n",
      "Iteration 23, inertia 244858844.849\n",
      "Iteration 23, inertia 231349783.599\n",
      "Iteration 23, inertia 232386019.171\n",
      "Iteration 23, inertia 253490118.389\n",
      "Iteration 23, inertia 231375720.514\n",
      "Iteration 23, inertia 251661039.730\n",
      "Iteration 23, inertia 230914101.402\n",
      "Iteration 23, inertia 235184726.872\n",
      "Iteration 24, inertia 244858434.752\n",
      "Iteration 24, inertia 231349701.113\n",
      "Iteration 24, inertia 231770015.296\n",
      "Iteration 24, inertia 253490027.411\n",
      "Iteration 24, inertia 231369451.278\n",
      "Iteration 24, inertia 251650268.188\n",
      "Iteration 24, inertia 230912261.929\n",
      "Iteration 24, inertia 235184587.928\n",
      "Iteration 25, inertia 244858360.929\n",
      "Iteration 25, inertia 231349556.849\n",
      "Iteration 25, inertia 253489792.854\n",
      "Iteration 25, inertia 231747731.848\n",
      "Iteration 25, inertia 231362898.895\n",
      "Iteration 25, inertia 251641243.463\n",
      "Iteration 25, inertia 230910980.555\n",
      "Iteration 25, inertia 235184497.761\n",
      "Iteration 26, inertia 244858334.520\n",
      "Iteration 26, inertia 231349551.682\n",
      "Iteration 26, inertia 253489458.931\n",
      "Iteration 26, inertia 231729527.766\n",
      "Iteration 26, inertia 231358647.613\n",
      "Iteration 26, inertia 251633319.447\n",
      "Iteration 26, inertia 230908279.363\n",
      "Iteration 26, inertia 235184404.992\n",
      "Iteration 27, inertia 244858315.493\n",
      "Iteration 27, inertia 231349548.844\n",
      "Iteration 27, inertia 253489340.133\n",
      "Iteration 27, inertia 231712073.225\n",
      "Iteration 27, inertia 231355432.691\n",
      "Iteration 27, inertia 251628420.935\n",
      "Iteration 27, inertia 230905661.254\n"
     ]
    },
    {
     "name": "stdout",
     "output_type": "stream",
     "text": [
      "Iteration 27, inertia 235184324.836\n",
      "Iteration 28, inertia 244858293.001\n",
      "Iteration 28, inertia 231349547.204\n",
      "Iteration 28, inertia 253488975.471\n",
      "Iteration 28, inertia 231691934.556\n",
      "Iteration 28, inertia 231352441.749\n",
      "Iteration 28, inertia 251626175.357\n",
      "Iteration 28, inertia 230901457.275\n",
      "Iteration 28, inertia 235184283.579\n",
      "Iteration 29, inertia 244858282.845\n",
      "Iteration 29, inertia 231349546.315\n",
      "Iteration 29, inertia 253488779.787\n",
      "Iteration 29, inertia 231672896.680\n",
      "Iteration 29, inertia 231351695.873\n",
      "Iteration 29, inertia 251623950.961\n",
      "Iteration 29, inertia 230896344.253\n",
      "Iteration 29, inertia 235184256.064\n",
      "Iteration 30, inertia 244858277.464\n",
      "Iteration 30, inertia 231349546.036\n",
      "Converged at iteration 30: center shift 0.000000e+00 within tolerance 4.908211e-07\n",
      "Initialization complete\n",
      "Iteration 30, inertia 253488317.068\n",
      "Iteration 30, inertia 231656540.679\n",
      "Iteration 30, inertia 231351211.150\n",
      "Iteration 30, inertia 251622696.145\n",
      "Iteration 30, inertia 230891342.336\n",
      "Iteration 30, inertia 235184234.652\n",
      "Iteration 31, inertia 244858273.185\n",
      "Iteration 31, inertia 253487904.309\n",
      "Iteration  0, inertia 301847859.074\n",
      "Iteration 31, inertia 231643355.025\n",
      "Iteration 31, inertia 231350740.084\n",
      "Iteration 31, inertia 251621992.689\n",
      "Iteration 31, inertia 230886905.379\n",
      "Iteration 31, inertia 235184230.853\n",
      "Iteration 32, inertia 244858271.028\n",
      "Iteration 32, inertia 253487700.454\n",
      "Iteration  1, inertia 255354143.763\n",
      "Iteration 32, inertia 231632819.215\n",
      "Iteration 32, inertia 231350554.379\n",
      "Iteration 32, inertia 251620512.741\n",
      "Iteration 32, inertia 230885410.384\n"
     ]
    },
    {
     "ename": "KeyboardInterrupt",
     "evalue": "",
     "output_type": "error",
     "traceback": [
      "\u001b[0;31m---------------------------------------------------------------------------\u001b[0m",
      "\u001b[0;31mKeyboardInterrupt\u001b[0m                         Traceback (most recent call last)",
      "\u001b[0;32m<ipython-input-46-8605e2d74e07>\u001b[0m in \u001b[0;36m<module>\u001b[0;34m()\u001b[0m\n\u001b[0;32m----> 1\u001b[0;31m \u001b[0mkmeans\u001b[0m\u001b[0;34m.\u001b[0m\u001b[0mfit\u001b[0m\u001b[0;34m(\u001b[0m\u001b[0mX_values\u001b[0m\u001b[0;34m)\u001b[0m\u001b[0;34m\u001b[0m\u001b[0m\n\u001b[0m",
      "\u001b[0;32m/usr/lib/python3.6/site-packages/sklearn/cluster/k_means_.py\u001b[0m in \u001b[0;36mfit\u001b[0;34m(self, X, y)\u001b[0m\n\u001b[1;32m    894\u001b[0m                 \u001b[0mtol\u001b[0m\u001b[0;34m=\u001b[0m\u001b[0mself\u001b[0m\u001b[0;34m.\u001b[0m\u001b[0mtol\u001b[0m\u001b[0;34m,\u001b[0m \u001b[0mrandom_state\u001b[0m\u001b[0;34m=\u001b[0m\u001b[0mrandom_state\u001b[0m\u001b[0;34m,\u001b[0m \u001b[0mcopy_x\u001b[0m\u001b[0;34m=\u001b[0m\u001b[0mself\u001b[0m\u001b[0;34m.\u001b[0m\u001b[0mcopy_x\u001b[0m\u001b[0;34m,\u001b[0m\u001b[0;34m\u001b[0m\u001b[0m\n\u001b[1;32m    895\u001b[0m                 \u001b[0mn_jobs\u001b[0m\u001b[0;34m=\u001b[0m\u001b[0mself\u001b[0m\u001b[0;34m.\u001b[0m\u001b[0mn_jobs\u001b[0m\u001b[0;34m,\u001b[0m \u001b[0malgorithm\u001b[0m\u001b[0;34m=\u001b[0m\u001b[0mself\u001b[0m\u001b[0;34m.\u001b[0m\u001b[0malgorithm\u001b[0m\u001b[0;34m,\u001b[0m\u001b[0;34m\u001b[0m\u001b[0m\n\u001b[0;32m--> 896\u001b[0;31m                 return_n_iter=True)\n\u001b[0m\u001b[1;32m    897\u001b[0m         \u001b[0;32mreturn\u001b[0m \u001b[0mself\u001b[0m\u001b[0;34m\u001b[0m\u001b[0m\n\u001b[1;32m    898\u001b[0m \u001b[0;34m\u001b[0m\u001b[0m\n",
      "\u001b[0;32m/usr/lib/python3.6/site-packages/sklearn/cluster/k_means_.py\u001b[0m in \u001b[0;36mk_means\u001b[0;34m(X, n_clusters, init, precompute_distances, n_init, max_iter, verbose, tol, random_state, copy_x, n_jobs, algorithm, return_n_iter)\u001b[0m\n\u001b[1;32m    361\u001b[0m                                    \u001b[0;31m# Change seed to ensure variety\u001b[0m\u001b[0;34m\u001b[0m\u001b[0;34m\u001b[0m\u001b[0m\n\u001b[1;32m    362\u001b[0m                                    random_state=seed)\n\u001b[0;32m--> 363\u001b[0;31m             for seed in seeds)\n\u001b[0m\u001b[1;32m    364\u001b[0m         \u001b[0;31m# Get results with the lowest inertia\u001b[0m\u001b[0;34m\u001b[0m\u001b[0;34m\u001b[0m\u001b[0m\n\u001b[1;32m    365\u001b[0m         \u001b[0mlabels\u001b[0m\u001b[0;34m,\u001b[0m \u001b[0minertia\u001b[0m\u001b[0;34m,\u001b[0m \u001b[0mcenters\u001b[0m\u001b[0;34m,\u001b[0m \u001b[0mn_iters\u001b[0m \u001b[0;34m=\u001b[0m \u001b[0mzip\u001b[0m\u001b[0;34m(\u001b[0m\u001b[0;34m*\u001b[0m\u001b[0mresults\u001b[0m\u001b[0;34m)\u001b[0m\u001b[0;34m\u001b[0m\u001b[0m\n",
      "\u001b[0;32m/usr/lib/python3.6/site-packages/sklearn/externals/joblib/parallel.py\u001b[0m in \u001b[0;36m__call__\u001b[0;34m(self, iterable)\u001b[0m\n\u001b[1;32m    787\u001b[0m                 \u001b[0;31m# consumption.\u001b[0m\u001b[0;34m\u001b[0m\u001b[0;34m\u001b[0m\u001b[0m\n\u001b[1;32m    788\u001b[0m                 \u001b[0mself\u001b[0m\u001b[0;34m.\u001b[0m\u001b[0m_iterating\u001b[0m \u001b[0;34m=\u001b[0m \u001b[0;32mFalse\u001b[0m\u001b[0;34m\u001b[0m\u001b[0m\n\u001b[0;32m--> 789\u001b[0;31m             \u001b[0mself\u001b[0m\u001b[0;34m.\u001b[0m\u001b[0mretrieve\u001b[0m\u001b[0;34m(\u001b[0m\u001b[0;34m)\u001b[0m\u001b[0;34m\u001b[0m\u001b[0m\n\u001b[0m\u001b[1;32m    790\u001b[0m             \u001b[0;31m# Make sure that we get a last message telling us we are done\u001b[0m\u001b[0;34m\u001b[0m\u001b[0;34m\u001b[0m\u001b[0m\n\u001b[1;32m    791\u001b[0m             \u001b[0melapsed_time\u001b[0m \u001b[0;34m=\u001b[0m \u001b[0mtime\u001b[0m\u001b[0;34m.\u001b[0m\u001b[0mtime\u001b[0m\u001b[0;34m(\u001b[0m\u001b[0;34m)\u001b[0m \u001b[0;34m-\u001b[0m \u001b[0mself\u001b[0m\u001b[0;34m.\u001b[0m\u001b[0m_start_time\u001b[0m\u001b[0;34m\u001b[0m\u001b[0m\n",
      "\u001b[0;32m/usr/lib/python3.6/site-packages/sklearn/externals/joblib/parallel.py\u001b[0m in \u001b[0;36mretrieve\u001b[0;34m(self)\u001b[0m\n\u001b[1;32m    697\u001b[0m             \u001b[0;32mtry\u001b[0m\u001b[0;34m:\u001b[0m\u001b[0;34m\u001b[0m\u001b[0m\n\u001b[1;32m    698\u001b[0m                 \u001b[0;32mif\u001b[0m \u001b[0mgetattr\u001b[0m\u001b[0;34m(\u001b[0m\u001b[0mself\u001b[0m\u001b[0;34m.\u001b[0m\u001b[0m_backend\u001b[0m\u001b[0;34m,\u001b[0m \u001b[0;34m'supports_timeout'\u001b[0m\u001b[0;34m,\u001b[0m \u001b[0;32mFalse\u001b[0m\u001b[0;34m)\u001b[0m\u001b[0;34m:\u001b[0m\u001b[0;34m\u001b[0m\u001b[0m\n\u001b[0;32m--> 699\u001b[0;31m                     \u001b[0mself\u001b[0m\u001b[0;34m.\u001b[0m\u001b[0m_output\u001b[0m\u001b[0;34m.\u001b[0m\u001b[0mextend\u001b[0m\u001b[0;34m(\u001b[0m\u001b[0mjob\u001b[0m\u001b[0;34m.\u001b[0m\u001b[0mget\u001b[0m\u001b[0;34m(\u001b[0m\u001b[0mtimeout\u001b[0m\u001b[0;34m=\u001b[0m\u001b[0mself\u001b[0m\u001b[0;34m.\u001b[0m\u001b[0mtimeout\u001b[0m\u001b[0;34m)\u001b[0m\u001b[0;34m)\u001b[0m\u001b[0;34m\u001b[0m\u001b[0m\n\u001b[0m\u001b[1;32m    700\u001b[0m                 \u001b[0;32melse\u001b[0m\u001b[0;34m:\u001b[0m\u001b[0;34m\u001b[0m\u001b[0m\n\u001b[1;32m    701\u001b[0m                     \u001b[0mself\u001b[0m\u001b[0;34m.\u001b[0m\u001b[0m_output\u001b[0m\u001b[0;34m.\u001b[0m\u001b[0mextend\u001b[0m\u001b[0;34m(\u001b[0m\u001b[0mjob\u001b[0m\u001b[0;34m.\u001b[0m\u001b[0mget\u001b[0m\u001b[0;34m(\u001b[0m\u001b[0;34m)\u001b[0m\u001b[0;34m)\u001b[0m\u001b[0;34m\u001b[0m\u001b[0m\n",
      "\u001b[0;32m/usr/lib/python3.6/multiprocessing/pool.py\u001b[0m in \u001b[0;36mget\u001b[0;34m(self, timeout)\u001b[0m\n\u001b[1;32m    636\u001b[0m \u001b[0;34m\u001b[0m\u001b[0m\n\u001b[1;32m    637\u001b[0m     \u001b[0;32mdef\u001b[0m \u001b[0mget\u001b[0m\u001b[0;34m(\u001b[0m\u001b[0mself\u001b[0m\u001b[0;34m,\u001b[0m \u001b[0mtimeout\u001b[0m\u001b[0;34m=\u001b[0m\u001b[0;32mNone\u001b[0m\u001b[0;34m)\u001b[0m\u001b[0;34m:\u001b[0m\u001b[0;34m\u001b[0m\u001b[0m\n\u001b[0;32m--> 638\u001b[0;31m         \u001b[0mself\u001b[0m\u001b[0;34m.\u001b[0m\u001b[0mwait\u001b[0m\u001b[0;34m(\u001b[0m\u001b[0mtimeout\u001b[0m\u001b[0;34m)\u001b[0m\u001b[0;34m\u001b[0m\u001b[0m\n\u001b[0m\u001b[1;32m    639\u001b[0m         \u001b[0;32mif\u001b[0m \u001b[0;32mnot\u001b[0m \u001b[0mself\u001b[0m\u001b[0;34m.\u001b[0m\u001b[0mready\u001b[0m\u001b[0;34m(\u001b[0m\u001b[0;34m)\u001b[0m\u001b[0;34m:\u001b[0m\u001b[0;34m\u001b[0m\u001b[0m\n\u001b[1;32m    640\u001b[0m             \u001b[0;32mraise\u001b[0m \u001b[0mTimeoutError\u001b[0m\u001b[0;34m\u001b[0m\u001b[0m\n",
      "\u001b[0;32m/usr/lib/python3.6/multiprocessing/pool.py\u001b[0m in \u001b[0;36mwait\u001b[0;34m(self, timeout)\u001b[0m\n\u001b[1;32m    633\u001b[0m \u001b[0;34m\u001b[0m\u001b[0m\n\u001b[1;32m    634\u001b[0m     \u001b[0;32mdef\u001b[0m \u001b[0mwait\u001b[0m\u001b[0;34m(\u001b[0m\u001b[0mself\u001b[0m\u001b[0;34m,\u001b[0m \u001b[0mtimeout\u001b[0m\u001b[0;34m=\u001b[0m\u001b[0;32mNone\u001b[0m\u001b[0;34m)\u001b[0m\u001b[0;34m:\u001b[0m\u001b[0;34m\u001b[0m\u001b[0m\n\u001b[0;32m--> 635\u001b[0;31m         \u001b[0mself\u001b[0m\u001b[0;34m.\u001b[0m\u001b[0m_event\u001b[0m\u001b[0;34m.\u001b[0m\u001b[0mwait\u001b[0m\u001b[0;34m(\u001b[0m\u001b[0mtimeout\u001b[0m\u001b[0;34m)\u001b[0m\u001b[0;34m\u001b[0m\u001b[0m\n\u001b[0m\u001b[1;32m    636\u001b[0m \u001b[0;34m\u001b[0m\u001b[0m\n\u001b[1;32m    637\u001b[0m     \u001b[0;32mdef\u001b[0m \u001b[0mget\u001b[0m\u001b[0;34m(\u001b[0m\u001b[0mself\u001b[0m\u001b[0;34m,\u001b[0m \u001b[0mtimeout\u001b[0m\u001b[0;34m=\u001b[0m\u001b[0;32mNone\u001b[0m\u001b[0;34m)\u001b[0m\u001b[0;34m:\u001b[0m\u001b[0;34m\u001b[0m\u001b[0m\n",
      "\u001b[0;32m/usr/lib/python3.6/threading.py\u001b[0m in \u001b[0;36mwait\u001b[0;34m(self, timeout)\u001b[0m\n\u001b[1;32m    549\u001b[0m             \u001b[0msignaled\u001b[0m \u001b[0;34m=\u001b[0m \u001b[0mself\u001b[0m\u001b[0;34m.\u001b[0m\u001b[0m_flag\u001b[0m\u001b[0;34m\u001b[0m\u001b[0m\n\u001b[1;32m    550\u001b[0m             \u001b[0;32mif\u001b[0m \u001b[0;32mnot\u001b[0m \u001b[0msignaled\u001b[0m\u001b[0;34m:\u001b[0m\u001b[0;34m\u001b[0m\u001b[0m\n\u001b[0;32m--> 551\u001b[0;31m                 \u001b[0msignaled\u001b[0m \u001b[0;34m=\u001b[0m \u001b[0mself\u001b[0m\u001b[0;34m.\u001b[0m\u001b[0m_cond\u001b[0m\u001b[0;34m.\u001b[0m\u001b[0mwait\u001b[0m\u001b[0;34m(\u001b[0m\u001b[0mtimeout\u001b[0m\u001b[0;34m)\u001b[0m\u001b[0;34m\u001b[0m\u001b[0m\n\u001b[0m\u001b[1;32m    552\u001b[0m             \u001b[0;32mreturn\u001b[0m \u001b[0msignaled\u001b[0m\u001b[0;34m\u001b[0m\u001b[0m\n\u001b[1;32m    553\u001b[0m \u001b[0;34m\u001b[0m\u001b[0m\n",
      "\u001b[0;32m/usr/lib/python3.6/threading.py\u001b[0m in \u001b[0;36mwait\u001b[0;34m(self, timeout)\u001b[0m\n\u001b[1;32m    293\u001b[0m         \u001b[0;32mtry\u001b[0m\u001b[0;34m:\u001b[0m    \u001b[0;31m# restore state no matter what (e.g., KeyboardInterrupt)\u001b[0m\u001b[0;34m\u001b[0m\u001b[0m\n\u001b[1;32m    294\u001b[0m             \u001b[0;32mif\u001b[0m \u001b[0mtimeout\u001b[0m \u001b[0;32mis\u001b[0m \u001b[0;32mNone\u001b[0m\u001b[0;34m:\u001b[0m\u001b[0;34m\u001b[0m\u001b[0m\n\u001b[0;32m--> 295\u001b[0;31m                 \u001b[0mwaiter\u001b[0m\u001b[0;34m.\u001b[0m\u001b[0macquire\u001b[0m\u001b[0;34m(\u001b[0m\u001b[0;34m)\u001b[0m\u001b[0;34m\u001b[0m\u001b[0m\n\u001b[0m\u001b[1;32m    296\u001b[0m                 \u001b[0mgotit\u001b[0m \u001b[0;34m=\u001b[0m \u001b[0;32mTrue\u001b[0m\u001b[0;34m\u001b[0m\u001b[0m\n\u001b[1;32m    297\u001b[0m             \u001b[0;32melse\u001b[0m\u001b[0;34m:\u001b[0m\u001b[0;34m\u001b[0m\u001b[0m\n",
      "\u001b[0;31mKeyboardInterrupt\u001b[0m: "
     ]
    }
   ],
   "source": [
    "kmeans.fit(X_values)"
   ]
  },
  {
   "cell_type": "code",
   "execution_count": null,
   "metadata": {},
   "outputs": [],
   "source": []
  }
 ],
 "metadata": {
  "kernelspec": {
   "display_name": "Python 3",
   "language": "python",
   "name": "python3"
  },
  "language_info": {
   "codemirror_mode": {
    "name": "ipython",
    "version": 3
   },
   "file_extension": ".py",
   "mimetype": "text/x-python",
   "name": "python",
   "nbconvert_exporter": "python",
   "pygments_lexer": "ipython3",
   "version": "3.6.5"
  }
 },
 "nbformat": 4,
 "nbformat_minor": 2
}
