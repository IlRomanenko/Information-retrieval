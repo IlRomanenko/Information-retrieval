{
 "cells": [
  {
   "cell_type": "code",
   "execution_count": 1,
   "metadata": {},
   "outputs": [],
   "source": [
    "import numpy as np\n",
    "import pandas as pd\n",
    "import pickle"
   ]
  },
  {
   "cell_type": "code",
   "execution_count": 2,
   "metadata": {},
   "outputs": [],
   "source": [
    "queries = None\n",
    "\n",
    "with open('Data/CLEF3/queries-corpus-utf', 'rb') as f:\n",
    "    queries = pickle.load(f)"
   ]
  },
  {
   "cell_type": "code",
   "execution_count": 4,
   "metadata": {},
   "outputs": [],
   "source": [
    "docs = None\n",
    "with open('Data/CLEF3/cleaned-corpus-utf', 'rb') as f:\n",
    "    docs = pickle.load(f)"
   ]
  },
  {
   "cell_type": "code",
   "execution_count": 5,
   "metadata": {},
   "outputs": [
    {
     "data": {
      "text/plain": [
       "[[array([0., 0., 0., ..., 0., 0., 0.]), 0.01856127620018591],\n",
       " [array([0., 0., 0., ..., 0., 0., 0.]), 5.997181324777355e-06],\n",
       " [array([0., 0., 0., ..., 0., 0., 0.]), 0.053518846142313115]]"
      ]
     },
     "execution_count": 5,
     "metadata": {},
     "output_type": "execute_result"
    }
   ],
   "source": [
    "queries[0][0]"
   ]
  },
  {
   "cell_type": "code",
   "execution_count": 6,
   "metadata": {},
   "outputs": [
    {
     "data": {
      "text/plain": [
       "(166745,)"
      ]
     },
     "execution_count": 6,
     "metadata": {},
     "output_type": "execute_result"
    }
   ],
   "source": [
    "queries[0][1].shape"
   ]
  },
  {
   "cell_type": "code",
   "execution_count": 8,
   "metadata": {},
   "outputs": [
    {
     "data": {
      "text/html": [
       "<div>\n",
       "<style scoped>\n",
       "    .dataframe tbody tr th:only-of-type {\n",
       "        vertical-align: middle;\n",
       "    }\n",
       "\n",
       "    .dataframe tbody tr th {\n",
       "        vertical-align: top;\n",
       "    }\n",
       "\n",
       "    .dataframe thead th {\n",
       "        text-align: right;\n",
       "    }\n",
       "</style>\n",
       "<table border=\"1\" class=\"dataframe\">\n",
       "  <thead>\n",
       "    <tr style=\"text-align: right;\">\n",
       "      <th></th>\n",
       "      <th>docno</th>\n",
       "      <th>docid</th>\n",
       "      <th>text</th>\n",
       "      <th>len</th>\n",
       "    </tr>\n",
       "  </thead>\n",
       "  <tbody>\n",
       "    <tr>\n",
       "      <th>0</th>\n",
       "      <td>LA010194-0001</td>\n",
       "      <td>000013</td>\n",
       "      <td>in hi book father son co my life at ibm and be...</td>\n",
       "      <td>332</td>\n",
       "    </tr>\n",
       "    <tr>\n",
       "      <th>1</th>\n",
       "      <td>LA010194-0002</td>\n",
       "      <td>000014</td>\n",
       "      <td>major crime drop while they dream of hollywood...</td>\n",
       "      <td>339</td>\n",
       "    </tr>\n",
       "    <tr>\n",
       "      <th>2</th>\n",
       "      <td>LA010194-0004</td>\n",
       "      <td>000016</td>\n",
       "      <td>mandel weiss a pioneer of such retail shop clu...</td>\n",
       "      <td>294</td>\n",
       "    </tr>\n",
       "    <tr>\n",
       "      <th>3</th>\n",
       "      <td>LA010194-0005</td>\n",
       "      <td>000017</td>\n",
       "      <td>rabbi marshal t meyer a lead voic of american ...</td>\n",
       "      <td>106</td>\n",
       "    </tr>\n",
       "    <tr>\n",
       "      <th>4</th>\n",
       "      <td>LA010194-0006</td>\n",
       "      <td>000018</td>\n",
       "      <td>thoma j watson jr who brought intern busi mach...</td>\n",
       "      <td>622</td>\n",
       "    </tr>\n",
       "  </tbody>\n",
       "</table>\n",
       "</div>"
      ],
      "text/plain": [
       "           docno   docid                                               text  \\\n",
       "0  LA010194-0001  000013  in hi book father son co my life at ibm and be...   \n",
       "1  LA010194-0002  000014  major crime drop while they dream of hollywood...   \n",
       "2  LA010194-0004  000016  mandel weiss a pioneer of such retail shop clu...   \n",
       "3  LA010194-0005  000017  rabbi marshal t meyer a lead voic of american ...   \n",
       "4  LA010194-0006  000018  thoma j watson jr who brought intern busi mach...   \n",
       "\n",
       "   len  \n",
       "0  332  \n",
       "1  339  \n",
       "2  294  \n",
       "3  106  \n",
       "4  622  "
      ]
     },
     "execution_count": 8,
     "metadata": {},
     "output_type": "execute_result"
    }
   ],
   "source": [
    "docs = pd.DataFrame(\n",
    "    docs,\n",
    "    columns=['docno', 'docid', 'text', 'len']\n",
    ")\n",
    "docs.head()"
   ]
  },
  {
   "cell_type": "code",
   "execution_count": 9,
   "metadata": {},
   "outputs": [
    {
     "data": {
      "text/plain": [
       "((166745,), (166745, 4))"
      ]
     },
     "execution_count": 9,
     "metadata": {},
     "output_type": "execute_result"
    }
   ],
   "source": [
    "np.unique(docs['docid']).shape, docs.shape"
   ]
  },
  {
   "cell_type": "code",
   "execution_count": null,
   "metadata": {},
   "outputs": [],
   "source": []
  }
 ],
 "metadata": {
  "kernelspec": {
   "display_name": "Python 3",
   "language": "python",
   "name": "python3"
  },
  "language_info": {
   "codemirror_mode": {
    "name": "ipython",
    "version": 3
   },
   "file_extension": ".py",
   "mimetype": "text/x-python",
   "name": "python",
   "nbconvert_exporter": "python",
   "pygments_lexer": "ipython3",
   "version": "3.6.5"
  }
 },
 "nbformat": 4,
 "nbformat_minor": 2
}
