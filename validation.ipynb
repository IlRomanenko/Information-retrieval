{
 "cells": [
  {
   "cell_type": "code",
   "execution_count": 1,
   "metadata": {},
   "outputs": [],
   "source": [
    "trec_to_learn = 7\n",
    "random_seed = 100"
   ]
  },
  {
   "cell_type": "code",
   "execution_count": 2,
   "metadata": {},
   "outputs": [],
   "source": [
    "import receive_data\n",
    "import numpy as np"
   ]
  },
  {
   "cell_type": "code",
   "execution_count": 3,
   "metadata": {},
   "outputs": [
    {
     "name": "stdout",
     "output_type": "stream",
     "text": [
      "Query :  351\n",
      "Query :  352\n",
      "Query :  353\n",
      "Query :  354\n",
      "Query :  355\n",
      "Query :  356\n",
      "Query :  357\n",
      "Query :  358\n",
      "Query :  359\n",
      "Query :  360\n",
      "Query :  361\n",
      "Query :  362\n",
      "Query :  363\n",
      "Query :  364\n",
      "Query :  365\n",
      "Query :  366\n",
      "Query :  367\n",
      "Query :  368\n",
      "Query :  369\n",
      "Query :  370\n",
      "Query :  371\n",
      "Query :  372\n",
      "Query :  373\n",
      "Query :  374\n",
      "Query :  375\n",
      "Query :  376\n",
      "Query :  377\n",
      "Query :  378\n",
      "Query :  379\n",
      "Query :  380\n",
      "Query :  381\n",
      "Query :  382\n",
      "Query :  383\n",
      "Query :  384\n",
      "Query :  385\n",
      "Query :  386\n",
      "Query :  387\n",
      "Query :  388\n",
      "Query :  389\n",
      "Query :  390\n",
      "Query :  391\n",
      "Query :  392\n",
      "Query :  393\n",
      "Query :  394\n",
      "Query :  395\n",
      "Query :  396\n",
      "Query :  397\n",
      "Query :  398\n",
      "Query :  399\n",
      "Query :  400\n"
     ]
    }
   ],
   "source": [
    "doc_ranks, queries, query_characteristics = receive_data.loadData(trec_to_learn)"
   ]
  },
  {
   "cell_type": "code",
   "execution_count": 4,
   "metadata": {},
   "outputs": [],
   "source": [
    "# тут можно сделать разные сплиты\n",
    "\n",
    "cut_size = 25\n",
    "\n",
    "doc_ranks_test = doc_ranks[-cut_size:]\n",
    "doc_ranks = doc_ranks[:-cut_size]\n",
    "\n",
    "queries_test = queries[-cut_size:]\n",
    "queries = queries[:-cut_size]\n",
    "\n",
    "query_characteristics_test = query_characteristics[-cut_size:]\n",
    "query_characteristics = query_characteristics[:-cut_size]"
   ]
  },
  {
   "cell_type": "code",
   "execution_count": 5,
   "metadata": {},
   "outputs": [],
   "source": [
    "import numpy as np\n",
    "np.random.seed(random_seed)\n",
    "\n",
    "import matplotlib.pyplot as plt\n",
    "\n",
    "import sys\n",
    "import os\n",
    "CUR_DIR = os.path.dirname(os.path.abspath(\"./\")) + \"/\"\n",
    "\n",
    "sys.path.append(CUR_DIR + 'genetic_algorithm')\n",
    "import create_population\n",
    "import learn_population"
   ]
  },
  {
   "cell_type": "code",
   "execution_count": 14,
   "metadata": {},
   "outputs": [],
   "source": [
    "import primitive\n",
    "import numpy as np\n",
    "\n",
    "from get_quality import get_quality\n",
    "from copy import deepcopy\n",
    "from mutation import mutate_rand_tree\n",
    "from crossover import crossfit\n",
    "from create_population import create_random_model\n",
    "from primitive import Primitives\n",
    "import dill as pickle\n",
    "import matplotlib.cm as cm"
   ]
  },
  {
   "cell_type": "code",
   "execution_count": 7,
   "metadata": {},
   "outputs": [],
   "source": [
    "def vis(population, vals):\n",
    "    plt.figure(figsize=(10, 5))\n",
    "    plt.scatter(vals, [pop.get_tokens() for pop in population])\n",
    "    plt.show()\n",
    "    print (\"!\")"
   ]
  },
  {
   "cell_type": "code",
   "execution_count": 8,
   "metadata": {},
   "outputs": [],
   "source": [
    "def rank_population(population, doc_ranks, queries, query_characteristics):   \n",
    "\n",
    "    qualities = []\n",
    "    for model in population:\n",
    "        quality = get_quality(model, doc_ranks, queries, query_characteristics)\n",
    "        qualities.append(quality)\n",
    "\n",
    "    return qualities"
   ]
  },
  {
   "cell_type": "code",
   "execution_count": 9,
   "metadata": {},
   "outputs": [],
   "source": [
    "from tqdm import tqdm_notebook as tqdm"
   ]
  },
  {
   "cell_type": "code",
   "execution_count": 17,
   "metadata": {},
   "outputs": [],
   "source": [
    "from primitive import Primitive\n",
    "from Levenshtein import distance as leven_dist\n",
    "\n",
    "P = 10003\n",
    "MOD = int(1e9 + 7)\n",
    "\n",
    "\n",
    "def check_commutativity(primitive):\n",
    "    if primitive.str in [\"add\", \"multiply\"]:\n",
    "        if hash(primitive.nodes[0]) > hash(primitive.nodes[0]):\n",
    "            primitive.nodes = primitive.nodes[::-1]\n",
    "\n",
    "\n",
    "def list_nodes_with_hashes(primitive):\n",
    "    ans = []\n",
    "    hash_ = hash(primitive.str) % MOD\n",
    "\n",
    "    check_commutativity(primitive)\n",
    "\n",
    "    for node in primitive.nodes:\n",
    "        list_nodes = list_nodes_with_hashes(node)\n",
    "        hash_ *= P\n",
    "        hash_ += list_nodes[-1][1]\n",
    "        hash_ %= MOD\n",
    "        ans += list_nodes\n",
    "\n",
    "    ans.append((primitive, hash_))\n",
    "    \n",
    "    return ans\n",
    "\n",
    "\n",
    "def compare(p1, p2):\n",
    "    if p1.str != p2.str:\n",
    "        return False\n",
    "\n",
    "    check_commutativity(p1)\n",
    "    check_commutativity(p2) \n",
    "\n",
    "    for l, r in zip(p1.nodes, p2.nodes):\n",
    "        if not compare(l, r):\n",
    "            return False\n",
    "\n",
    "    return True\n",
    "\n",
    "\n",
    "def get_first_structural_distance(p1, p2):\n",
    "\n",
    "    nodes1 = list_nodes_with_hashes(p1)\n",
    "    nodes2 = list_nodes_with_hashes(p2)\n",
    "    \n",
    "    max_same_part = 0\n",
    "    \n",
    "    for n1 in nodes1:\n",
    "        for n2 in nodes2:\n",
    "            if n1[1] == n2[1] and compare(n1[0], n2[0]):\n",
    "                max_same_part = max(max_same_part, n1[0].get_tokens())\n",
    "\n",
    "    return p1.get_tokens() + p2.get_tokens() - 2 * max_same_part\n",
    "\n",
    "\n",
    "def get_second_structural_distance(p1, p2):\n",
    "    w1 = p1.get_str_representation()\n",
    "    w2 = p2.get_str_representation()\n",
    "    return leven_dist(w1, w2)\n"
   ]
  },
  {
   "cell_type": "code",
   "execution_count": 10,
   "metadata": {},
   "outputs": [],
   "source": [
    "# тут задается количество итераций\n",
    "iterations = 4"
   ]
  },
  {
   "cell_type": "code",
   "execution_count": 11,
   "metadata": {
    "scrolled": true
   },
   "outputs": [
    {
     "name": "stderr",
     "output_type": "stream",
     "text": [
      "/home/howl/coding/article/Information-retrieval/genetic_algorithm/primitive.py:73: RuntimeWarning: invalid value encountered in double_scalars\n",
      "  vars = np.array([fr.low * sc.low, fr.low * sc.high, fr.high * sc.low, fr.high * sc.high])\n",
      "/home/howl/coding/article/Information-retrieval/genetic_algorithm/primitive.py:65: RuntimeWarning: invalid value encountered in double_scalars\n",
      "  vars = np.array([fr.low * sc.low, fr.low * sc.high, fr.high * sc.low, fr.high * sc.high])\n"
     ]
    },
    {
     "data": {
      "application/vnd.jupyter.widget-view+json": {
       "model_id": "7623b834b7a7469e9cd73e018e13294a",
       "version_major": 2,
       "version_minor": 0
      },
      "text/html": [
       "<p>Failed to display Jupyter Widget of type <code>HBox</code>.</p>\n",
       "<p>\n",
       "  If you're reading this message in the Jupyter Notebook or JupyterLab Notebook, it may mean\n",
       "  that the widgets JavaScript is still loading. If this message persists, it\n",
       "  likely means that the widgets JavaScript library is either not installed or\n",
       "  not enabled. See the <a href=\"https://ipywidgets.readthedocs.io/en/stable/user_install.html\">Jupyter\n",
       "  Widgets Documentation</a> for setup instructions.\n",
       "</p>\n",
       "<p>\n",
       "  If you're reading this message in another frontend (for example, a static\n",
       "  rendering on GitHub or <a href=\"https://nbviewer.jupyter.org/\">NBViewer</a>),\n",
       "  it may mean that your frontend doesn't currently support widgets.\n",
       "</p>\n"
      ],
      "text/plain": [
       "HBox(children=(IntProgress(value=0, max=4), HTML(value='')))"
      ]
     },
     "metadata": {},
     "output_type": "display_data"
    },
    {
     "name": "stdout",
     "output_type": "stream",
     "text": [
      "33\n"
     ]
    },
    {
     "name": "stderr",
     "output_type": "stream",
     "text": [
      "/home/howl/coding/article/Information-retrieval/genetic_algorithm/primitive.py:41: RuntimeWarning: invalid value encountered in sqrt\n",
      "  return self.func(*[node.calc(x, y) for node in self.nodes])\n"
     ]
    },
    {
     "data": {
      "image/png": "[encoded data removed]",
      "text/plain": [
       "<Figure size 720x360 with 1 Axes>"
      ]
     },
     "metadata": {},
     "output_type": "display_data"
    },
    {
     "name": "stdout",
     "output_type": "stream",
     "text": [
      "!\n",
      "-5.265183398501728\n",
      "40\n"
     ]
    },
    {
     "name": "stderr",
     "output_type": "stream",
     "text": [
      "/home/howl/coding/article/Information-retrieval/genetic_algorithm/primitive.py:41: RuntimeWarning: divide by zero encountered in true_divide\n",
      "  return self.func(*[node.calc(x, y) for node in self.nodes])\n",
      "/home/howl/coding/article/Information-retrieval/genetic_algorithm/primitive.py:41: RuntimeWarning: overflow encountered in exp\n",
      "  return self.func(*[node.calc(x, y) for node in self.nodes])\n",
      "/home/howl/coding/article/Information-retrieval/genetic_algorithm/primitive.py:160: RuntimeWarning: invalid value encountered in log10\n",
      "  LOG = Primitive(lambda x: np.log10(1+x), 1, DOMAINS.POSITIVE, DOMAINS.REAL, 'log')\n"
     ]
    },
    {
     "data": {
      "image/png": "[encoded data removed]",
      "text/plain": [
       "<Figure size 720x360 with 1 Axes>"
      ]
     },
     "metadata": {},
     "output_type": "display_data"
    },
    {
     "name": "stdout",
     "output_type": "stream",
     "text": [
      "!\n",
      "-5.8546626460749565\n",
      "40\n"
     ]
    },
    {
     "name": "stderr",
     "output_type": "stream",
     "text": [
      "/home/howl/coding/article/Information-retrieval/genetic_algorithm/primitive.py:41: RuntimeWarning: overflow encountered in true_divide\n",
      "  return self.func(*[node.calc(x, y) for node in self.nodes])\n"
     ]
    },
    {
     "data": {
      "image/png": "[encoded data removed]",
      "text/plain": [
       "<Figure size 720x360 with 1 Axes>"
      ]
     },
     "metadata": {},
     "output_type": "display_data"
    },
    {
     "name": "stdout",
     "output_type": "stream",
     "text": [
      "!\n",
      "-5.8546626460749565\n",
      "40\n"
     ]
    },
    {
     "data": {
      "image/png": "[encoded data removed]",
      "text/plain": [
       "<Figure size 720x360 with 1 Axes>"
      ]
     },
     "metadata": {},
     "output_type": "display_data"
    },
    {
     "name": "stdout",
     "output_type": "stream",
     "text": [
      "!\n",
      "-6.185231221145402\n",
      "\n"
     ]
    }
   ],
   "source": [
    "np.random.seed(random_seed)\n",
    "\n",
    "size = 40\n",
    "\n",
    "population = create_population.create_population(size, 5)\n",
    "\n",
    "history = []\n",
    "\n",
    "for iteration in tqdm(range(iterations)):\n",
    "    new_population = []\n",
    "\n",
    "    sz = len(population)\n",
    "    print (sz)\n",
    "\n",
    "    new_population.append(population[0])\n",
    "\n",
    "    for i in range(sz // 30):\n",
    "        new_population.append(mutate_rand_tree(population[0]))\n",
    "        new_population.append(mutate_rand_tree(population[1]))\n",
    "        new_population.append(mutate_rand_tree(population[2]))\n",
    "    for i in range(sz // 10):\n",
    "        new_population.append(create_random_model(4))\n",
    "    for i in range(sz):\n",
    "        t1 = population[np.random.randint(0, sz / 2)]\n",
    "        t2 = population[np.random.randint(0, sz / 2)]\n",
    "        new_population.append(mutate_rand_tree(crossfit(t1, t2)))\n",
    "\n",
    "    population = np.array(list(population) + list(new_population))\n",
    "    values = rank_population(population, doc_ranks, queries, query_characteristics)\n",
    "    values = np.array(values)\n",
    "\n",
    "    indexes = np.arange(len(population))\n",
    "    \n",
    "    # тут можно сделать разную регуляризацию\n",
    "    indexes = sorted(indexes, key=lambda i: -values[i] + max(0, population[i].get_tokens() - 20) * 0.2 + population[i].get_tokens() * 0.005)\n",
    "    \n",
    "    population = (population[indexes])[:size]\n",
    "    values = (values[indexes])[:size]\n",
    "    \n",
    "    vis(population, values)\n",
    "    history.append((population, values))\n",
    "    \n",
    "    \n",
    "    # а тут задетектить стагнацию\n",
    "    \"\"\"\n",
    "    max_dist = 0\n",
    "    for i in range(10):\n",
    "        max_dist = max(max_dist, get_second_structural_distance(population[np.random.randint(0, sz)]))\n",
    "    if max_dist < threshold:\n",
    "        for i in range(3, sz):\n",
    "            # create_random_model может сфейлиться, с этим нужно что то сделать\n",
    "            # get_deep тоже нужно реализовать\n",
    "            population[i] = create_random_model(population[i].get_deep())\n",
    "    \"\"\"\n",
    "    \n",
    "\n",
    "    print(-values[0])"
   ]
  },
  {
   "cell_type": "code",
   "execution_count": 12,
   "metadata": {
    "scrolled": true
   },
   "outputs": [
    {
     "data": {
      "application/vnd.jupyter.widget-view+json": {
       "model_id": "dac601ab4ee24f7daa82adf4949a0fea",
       "version_major": 2,
       "version_minor": 0
      },
      "text/html": [
       "<p>Failed to display Jupyter Widget of type <code>HBox</code>.</p>\n",
       "<p>\n",
       "  If you're reading this message in the Jupyter Notebook or JupyterLab Notebook, it may mean\n",
       "  that the widgets JavaScript is still loading. If this message persists, it\n",
       "  likely means that the widgets JavaScript library is either not installed or\n",
       "  not enabled. See the <a href=\"https://ipywidgets.readthedocs.io/en/stable/user_install.html\">Jupyter\n",
       "  Widgets Documentation</a> for setup instructions.\n",
       "</p>\n",
       "<p>\n",
       "  If you're reading this message in another frontend (for example, a static\n",
       "  rendering on GitHub or <a href=\"https://nbviewer.jupyter.org/\">NBViewer</a>),\n",
       "  it may mean that your frontend doesn't currently support widgets.\n",
       "</p>\n"
      ],
      "text/plain": [
       "HBox(children=(IntProgress(value=0, max=4), HTML(value='')))"
      ]
     },
     "metadata": {},
     "output_type": "display_data"
    },
    {
     "name": "stderr",
     "output_type": "stream",
     "text": [
      "/home/howl/coding/article/Information-retrieval/genetic_algorithm/primitive.py:41: RuntimeWarning: invalid value encountered in sqrt\n",
      "  return self.func(*[node.calc(x, y) for node in self.nodes])\n"
     ]
    },
    {
     "name": "stdout",
     "output_type": "stream",
     "text": [
      "\n"
     ]
    }
   ],
   "source": [
    "reit = []\n",
    "for models in tqdm(history):\n",
    "    values = rank_population(models[0], doc_ranks_test, queries_test, query_characteristics_test)\n",
    "    values = np.array(values)\n",
    "    reit.append(values)"
   ]
  },
  {
   "cell_type": "code",
   "execution_count": 15,
   "metadata": {},
   "outputs": [
    {
     "name": "stdout",
     "output_type": "stream",
     "text": [
      "4\n"
     ]
    },
    {
     "data": {
      "image/png": "[encoded data removed]",
      "text/plain": [
       "<Figure size 1008x432 with 1 Axes>"
      ]
     },
     "metadata": {},
     "output_type": "display_data"
    }
   ],
   "source": [
    "# график сложности\n",
    "print (len(history))\n",
    "plt.figure(figsize=(14, 6))\n",
    "\n",
    "L = 0\n",
    "R = iterations\n",
    "s = 60\n",
    "\n",
    "colors = cm.rainbow(np.linspace(0, 1, iterations))\n",
    "\n",
    "for i in range(L, R):\n",
    "    plt.scatter(history[i][1], [p.get_tokens() for p in history[i][0]], c=colors[i], s=s)\n",
    "    \n",
    "    \n",
    "plt.show()"
   ]
  },
  {
   "cell_type": "code",
   "execution_count": 16,
   "metadata": {},
   "outputs": [
    {
     "name": "stdout",
     "output_type": "stream",
     "text": [
      "4\n"
     ]
    },
    {
     "data": {
      "image/png": "[encoded data removed]",
      "text/plain": [
       "<Figure size 1008x432 with 1 Axes>"
      ]
     },
     "metadata": {},
     "output_type": "display_data"
    }
   ],
   "source": [
    "# график score on train / score on val\n",
    "\n",
    "print (len(history))\n",
    "plt.figure(figsize=(14, 6))\n",
    "\n",
    "L = 0\n",
    "R = iterations\n",
    "s = 60\n",
    "\n",
    "colors = cm.rainbow(np.linspace(0, 1, iterations))\n",
    "\n",
    "for i in range(L, R):\n",
    "    plt.scatter(history[i][1], reit[i], c=colors[i], s=s)\n",
    "    \n",
    "    \n",
    "plt.show()"
   ]
  },
  {
   "cell_type": "code",
   "execution_count": null,
   "metadata": {
    "collapsed": true
   },
   "outputs": [],
   "source": []
  }
 ],
 "metadata": {
  "kernelspec": {
   "display_name": "Python 3",
   "language": "python",
   "name": "python3"
  },
  "language_info": {
   "codemirror_mode": {
    "name": "ipython",
    "version": 3
   },
   "file_extension": ".py",
   "mimetype": "text/x-python",
   "name": "python",
   "nbconvert_exporter": "python",
   "pygments_lexer": "ipython3",
   "version": "3.5.2"
  }
 },
 "nbformat": 4,
 "nbformat_minor": 2
}
